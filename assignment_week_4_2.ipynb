{
  "nbformat": 4,
  "nbformat_minor": 0,
  "metadata": {
    "colab": {
      "provenance": []
    },
    "kernelspec": {
      "name": "python3",
      "display_name": "Python 3"
    },
    "language_info": {
      "name": "python"
    }
  },
  "cells": [
    {
      "cell_type": "markdown",
      "source": [
        "#Submitted by Diveyesh"
      ],
      "metadata": {
        "id": "HGoWBp03bIKK"
      }
    },
    {
      "cell_type": "markdown",
      "source": [
        "#Question - 1\n"
      ],
      "metadata": {
        "id": "ju-_-4fabQx6"
      }
    },
    {
      "cell_type": "code",
      "execution_count": 2,
      "metadata": {
        "id": "cvIwa_Isa_mW"
      },
      "outputs": [],
      "source": [
        "class vehicle:\n",
        "  def __init__(self,name_of_vehicle,max_speed,average_of_vehicle):\n",
        "    self.name_of_vehicle = name_of_vehicle\n",
        "    self.max_speed = max_speed\n",
        "    self.average_of_vehicle = average_of_vehicle"
      ]
    },
    {
      "cell_type": "code",
      "source": [
        "car_1 = vehicle(\"ferrari\",200,10)"
      ],
      "metadata": {
        "id": "joDzV31JbP3x"
      },
      "execution_count": 5,
      "outputs": []
    },
    {
      "cell_type": "code",
      "source": [
        "car_1.name_of_vehicle"
      ],
      "metadata": {
        "colab": {
          "base_uri": "https://localhost:8080/",
          "height": 36
        },
        "id": "kz1mmmkwbP1m",
        "outputId": "99d00bdb-4398-4a36-c175-61dcef901f4c"
      },
      "execution_count": 7,
      "outputs": [
        {
          "output_type": "execute_result",
          "data": {
            "text/plain": [
              "'ferrari'"
            ],
            "application/vnd.google.colaboratory.intrinsic+json": {
              "type": "string"
            }
          },
          "metadata": {},
          "execution_count": 7
        }
      ]
    },
    {
      "cell_type": "code",
      "source": [
        "car_1.max_speed"
      ],
      "metadata": {
        "colab": {
          "base_uri": "https://localhost:8080/"
        },
        "id": "wM20tKXMbPyx",
        "outputId": "19f1829e-24ec-43a5-fa57-9592c7027aad"
      },
      "execution_count": 8,
      "outputs": [
        {
          "output_type": "execute_result",
          "data": {
            "text/plain": [
              "200"
            ]
          },
          "metadata": {},
          "execution_count": 8
        }
      ]
    },
    {
      "cell_type": "code",
      "source": [
        "car_1.average_of_vehicle"
      ],
      "metadata": {
        "colab": {
          "base_uri": "https://localhost:8080/"
        },
        "id": "BFCFUej7bPwK",
        "outputId": "553e4e01-aff4-40f4-d15f-9c1dae40ec0d"
      },
      "execution_count": 9,
      "outputs": [
        {
          "output_type": "execute_result",
          "data": {
            "text/plain": [
              "10"
            ]
          },
          "metadata": {},
          "execution_count": 9
        }
      ]
    },
    {
      "cell_type": "markdown",
      "source": [
        "#Question - 2"
      ],
      "metadata": {
        "id": "VvlLW1urjEGW"
      }
    },
    {
      "cell_type": "code",
      "source": [
        "class car(vehicle):\n",
        "  def seating_capacity(self,capacity):\n",
        "    return self.name_of_vehicle, capacity"
      ],
      "metadata": {
        "id": "Er3IQycLbPtU"
      },
      "execution_count": 10,
      "outputs": []
    },
    {
      "cell_type": "code",
      "source": [
        "car_2 = car(\"maruti\",120,20)"
      ],
      "metadata": {
        "id": "S3YIHaxebPqP"
      },
      "execution_count": 12,
      "outputs": []
    },
    {
      "cell_type": "code",
      "source": [
        "car_2.seating_capacity(5)"
      ],
      "metadata": {
        "colab": {
          "base_uri": "https://localhost:8080/"
        },
        "id": "frxN9Ag2bPn6",
        "outputId": "4af1c2f6-0d0d-4b96-9f07-6babf3ad838b"
      },
      "execution_count": 13,
      "outputs": [
        {
          "output_type": "execute_result",
          "data": {
            "text/plain": [
              "('maruti', 5)"
            ]
          },
          "metadata": {},
          "execution_count": 13
        }
      ]
    },
    {
      "cell_type": "markdown",
      "source": [
        "#Question - 3"
      ],
      "metadata": {
        "id": "9ttVVt0dkam_"
      }
    },
    {
      "cell_type": "code",
      "source": [
        "#Inheritance is defined as the mechanism of inheriting the properties of the base class to the child class."
      ],
      "metadata": {
        "id": "_u6tHHdEbPk8"
      },
      "execution_count": null,
      "outputs": []
    },
    {
      "cell_type": "code",
      "source": [
        "#Multiple Inheritance:\n",
        "#When a class can be derived from more than one base class this type of inheritance is called multiple inheritances.\n",
        "#In multiple inheritances, all the features of the base classes are inherited into the derived class.\n",
        "#Example is given below:-"
      ],
      "metadata": {
        "id": "jDORx9xVbPiX"
      },
      "execution_count": null,
      "outputs": []
    },
    {
      "cell_type": "code",
      "source": [
        "# Base class1\n",
        "class Mother:\n",
        "  def mother(self):\n",
        "    print(\"Mother's name is Mrs. Geeta\")\n",
        "\n",
        "# Base class2\n",
        "class Father:\n",
        "  def father(self):\n",
        "    print(\"Father's name is Mr. Suresh\")\n",
        "\n",
        "# Derived class\n",
        "class Son(Mother, Father):\n",
        "  def son(self):\n",
        "    print(\"My name is Mr. Ramesh\")"
      ],
      "metadata": {
        "id": "pLFlC84DbPf8"
      },
      "execution_count": 14,
      "outputs": []
    },
    {
      "cell_type": "code",
      "source": [
        "s1 = Son()\n",
        "s1.father()\n",
        "s1.mother()\n",
        "s1.son()"
      ],
      "metadata": {
        "colab": {
          "base_uri": "https://localhost:8080/"
        },
        "id": "NRIYLWWKbPdJ",
        "outputId": "0dbfa527-f56a-45e4-8ab9-97effe6f62b8"
      },
      "execution_count": 15,
      "outputs": [
        {
          "output_type": "stream",
          "name": "stdout",
          "text": [
            "Father's name is Mr. Suresh\n",
            "Mother's name is Mrs. Geeta\n",
            "My name is Mr. Ramesh\n"
          ]
        }
      ]
    },
    {
      "cell_type": "markdown",
      "source": [
        "#Question - 4"
      ],
      "metadata": {
        "id": "hUrL6ekulCh6"
      }
    },
    {
      "cell_type": "code",
      "source": [
        "#Getters: These are the methods used in Object-Oriented Programming (OOPS) which helps to access the private attributes from a class.\n",
        "#Setters: These are the methods used in OOPS feature which helps to set the value to private attributes in a class"
      ],
      "metadata": {
        "id": "6D6qguJLbPay"
      },
      "execution_count": null,
      "outputs": []
    },
    {
      "cell_type": "code",
      "source": [
        "class bank:\n",
        "  def __init__(self,balance):\n",
        "    self.__balance = balance\n",
        "\n",
        "  @property\n",
        "  def check_balance(self):\n",
        "    return self.__balance\n",
        "\n",
        "  @check_balance.getter\n",
        "  def get_balance(self):\n",
        "    return self.__balance\n",
        "\n",
        "  @check_balance.setter\n",
        "  def set_balance(self,amount):\n",
        "    self.__balance = amount\n",
        "    return self.__balance\n",
        "\n",
        "\n",
        "\n",
        "\n",
        "\n",
        "\n",
        "\n",
        "\n"
      ],
      "metadata": {
        "id": "NHRiNbJdbPXa"
      },
      "execution_count": 63,
      "outputs": []
    },
    {
      "cell_type": "code",
      "source": [
        "person_1 = bank(1000)"
      ],
      "metadata": {
        "id": "vikO3Ly-bPU5"
      },
      "execution_count": 64,
      "outputs": []
    },
    {
      "cell_type": "code",
      "source": [
        "person_1.get_balance\n"
      ],
      "metadata": {
        "colab": {
          "base_uri": "https://localhost:8080/"
        },
        "id": "kAOd9MnrbPPa",
        "outputId": "a22504fb-cdde-4162-f787-f8764a50749c"
      },
      "execution_count": 65,
      "outputs": [
        {
          "output_type": "execute_result",
          "data": {
            "text/plain": [
              "1000"
            ]
          },
          "metadata": {},
          "execution_count": 65
        }
      ]
    },
    {
      "cell_type": "code",
      "source": [
        "person_1.set_balance = 2000"
      ],
      "metadata": {
        "id": "Onw9fskVbPMe"
      },
      "execution_count": 66,
      "outputs": []
    },
    {
      "cell_type": "code",
      "source": [
        "person_1.set_balance\n"
      ],
      "metadata": {
        "colab": {
          "base_uri": "https://localhost:8080/"
        },
        "id": "kLC_3oZZbPKK",
        "outputId": "50866f51-6274-4066-c1be-c17ce1c52669"
      },
      "execution_count": 67,
      "outputs": [
        {
          "output_type": "execute_result",
          "data": {
            "text/plain": [
              "2000"
            ]
          },
          "metadata": {},
          "execution_count": 67
        }
      ]
    },
    {
      "cell_type": "markdown",
      "source": [
        "#Question - 5"
      ],
      "metadata": {
        "id": "lTSDqAwxwYcB"
      }
    },
    {
      "cell_type": "code",
      "source": [
        "#Method Overriding in Python is an OOPs concept closely related to inheritance.\n",
        "#When a child class method overrides(or, provides it's own implementation) the parent class method of the same name, parameters\n",
        "#and return type, it is known as method overriding."
      ],
      "metadata": {
        "id": "JPS9QfWDbPHd"
      },
      "execution_count": null,
      "outputs": []
    },
    {
      "cell_type": "code",
      "source": [
        "class car:\n",
        "  def seating_capacity(self):\n",
        "    return 4\n",
        "\n",
        "class suv(car):\n",
        "  def seating_capacity(self):\n",
        "    return 5"
      ],
      "metadata": {
        "id": "g_O4FcwIbPEk"
      },
      "execution_count": 78,
      "outputs": []
    },
    {
      "cell_type": "code",
      "source": [
        "car1 = car()"
      ],
      "metadata": {
        "id": "Qdh140TzbPBy"
      },
      "execution_count": 79,
      "outputs": []
    },
    {
      "cell_type": "code",
      "source": [
        "car1.seating_capacity()"
      ],
      "metadata": {
        "colab": {
          "base_uri": "https://localhost:8080/"
        },
        "id": "Ddzo7lCbE6Qr",
        "outputId": "025e2002-61ca-44fa-a19f-eac9929d4c7f"
      },
      "execution_count": 80,
      "outputs": [
        {
          "output_type": "execute_result",
          "data": {
            "text/plain": [
              "4"
            ]
          },
          "metadata": {},
          "execution_count": 80
        }
      ]
    },
    {
      "cell_type": "code",
      "source": [
        "suv1 = suv()"
      ],
      "metadata": {
        "id": "HVq8UWC0bO_L"
      },
      "execution_count": 81,
      "outputs": []
    },
    {
      "cell_type": "code",
      "source": [
        "suv1.seating_capacity()"
      ],
      "metadata": {
        "colab": {
          "base_uri": "https://localhost:8080/"
        },
        "id": "BAcIljOIbO6O",
        "outputId": "471313ec-ea71-4b4a-c281-3a0192ac11f9"
      },
      "execution_count": 82,
      "outputs": [
        {
          "output_type": "execute_result",
          "data": {
            "text/plain": [
              "5"
            ]
          },
          "metadata": {},
          "execution_count": 82
        }
      ]
    },
    {
      "cell_type": "code",
      "source": [
        "car1.seating_capacity()"
      ],
      "metadata": {
        "id": "CDhCHNOGbO3T"
      },
      "execution_count": null,
      "outputs": []
    },
    {
      "cell_type": "code",
      "source": [
        "\n",
        "class Shape:\n",
        "  def no_of_sides(self):\n",
        "      print(\"kindly define my number of sides\")\n",
        "\n",
        "  def math(self):\n",
        "    print(\"I am studied under mathematics subject\")\n",
        "\n",
        "\n",
        "class Square(Shape):\n",
        "  def no_of_sides(self):\n",
        "    print(\"I have 4 sides. I am from Square class\")\n",
        "  def property_square(self):\n",
        "    print(\"The sum of all angles are 180 degree\")"
      ],
      "metadata": {
        "id": "r0eo_3yxbOwj"
      },
      "execution_count": 86,
      "outputs": []
    },
    {
      "cell_type": "code",
      "source": [
        "shape_1 = Shape()\n",
        "square_1 = Square()"
      ],
      "metadata": {
        "id": "buEmOwrFbOsb"
      },
      "execution_count": 87,
      "outputs": []
    },
    {
      "cell_type": "code",
      "source": [
        "shape_1.no_of_sides()"
      ],
      "metadata": {
        "colab": {
          "base_uri": "https://localhost:8080/"
        },
        "id": "bCdjaREMbOqA",
        "outputId": "66ef3a27-20c5-420f-9854-350cee8ca661"
      },
      "execution_count": 88,
      "outputs": [
        {
          "output_type": "stream",
          "name": "stdout",
          "text": [
            "kindly define my number of sides\n"
          ]
        }
      ]
    },
    {
      "cell_type": "code",
      "source": [
        "shape_1.math()"
      ],
      "metadata": {
        "colab": {
          "base_uri": "https://localhost:8080/"
        },
        "id": "S17U6O9ObOnN",
        "outputId": "14a49e2c-c88b-48f8-ca09-9cfa5a853d34"
      },
      "execution_count": 89,
      "outputs": [
        {
          "output_type": "stream",
          "name": "stdout",
          "text": [
            "I am studied under mathematics subject\n"
          ]
        }
      ]
    },
    {
      "cell_type": "code",
      "source": [
        "square_1.no_of_sides()"
      ],
      "metadata": {
        "colab": {
          "base_uri": "https://localhost:8080/"
        },
        "id": "XUVLZRB-bOlO",
        "outputId": "2080bbf9-6c72-4409-caeb-aeb457d5e58a"
      },
      "execution_count": 90,
      "outputs": [
        {
          "output_type": "stream",
          "name": "stdout",
          "text": [
            "I have 4 sides. I am from Square class\n"
          ]
        }
      ]
    },
    {
      "cell_type": "code",
      "source": [
        "square_1.property_square()"
      ],
      "metadata": {
        "colab": {
          "base_uri": "https://localhost:8080/"
        },
        "id": "C0NFCB8FbOjS",
        "outputId": "38388da1-d0f3-4ad4-b03a-7db7e9a54787"
      },
      "execution_count": 91,
      "outputs": [
        {
          "output_type": "stream",
          "name": "stdout",
          "text": [
            "The sum of all angles are 180 degree\n"
          ]
        }
      ]
    },
    {
      "cell_type": "code",
      "source": [
        "shape_1.no_of_sides()"
      ],
      "metadata": {
        "colab": {
          "base_uri": "https://localhost:8080/"
        },
        "id": "egwsVYh_bOgf",
        "outputId": "cd866ba9-21ac-41ed-8c18-ba03827aac65"
      },
      "execution_count": 92,
      "outputs": [
        {
          "output_type": "stream",
          "name": "stdout",
          "text": [
            "kindly define my number of sides\n"
          ]
        }
      ]
    }
  ]
}